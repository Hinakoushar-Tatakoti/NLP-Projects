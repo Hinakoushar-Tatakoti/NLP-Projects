{
 "cells": [
  {
   "cell_type": "markdown",
   "id": "c3d7ebb5",
   "metadata": {},
   "source": [
    "## Identify the email address and phone numbers"
   ]
  },
  {
   "cell_type": "markdown",
   "id": "6afa2335",
   "metadata": {},
   "source": [
    "#### use https://regex101.com/  to test your regex patterns"
   ]
  },
  {
   "cell_type": "code",
   "execution_count": 1,
   "id": "c50ab438",
   "metadata": {},
   "outputs": [],
   "source": [
    "import re"
   ]
  },
  {
   "cell_type": "code",
   "execution_count": 14,
   "id": "7fb8a1c1",
   "metadata": {},
   "outputs": [],
   "source": [
    "text =\"jkjhds hgsdhghsd 1134455667 jjhdhshd hjgshdgds hinakoushar.Tatakoti1234@1342\\\n",
    "kjsdsu hsgedsgd Mollwitzsraa2 kuuewhw 9483755444 jsdjsj amir2426@yahoo.com \\\n",
    "akjdjhajdh jsabdbahsdb 384 jwehdgd 8732h jhshdsh agyag 12:03hrs\\\n",
    "(123)-567-8976 also my email address is hinakoushar.tatakoti@gmail.com \\\n",
    ", hina_tata1342@gmail.com \""
   ]
  },
  {
   "cell_type": "code",
   "execution_count": 15,
   "id": "9b14591b",
   "metadata": {},
   "outputs": [],
   "source": [
    "pattern =\"\\d{10}|\\(\\d{3}\\)-\\d{3}-\\d{4}|[a-zA-Z0-9_.-]*@[a-zA-Z0-9]*\\.[a-zA-Z]*\""
   ]
  },
  {
   "cell_type": "code",
   "execution_count": 16,
   "id": "68d78cd2",
   "metadata": {},
   "outputs": [
    {
     "data": {
      "text/plain": [
       "['1134455667',\n",
       " '9483755444',\n",
       " 'amir2426@yahoo.com',\n",
       " '(123)-567-8976',\n",
       " 'hinakoushar.tatakoti@gmail.com',\n",
       " 'hina_tata1342@gmail.com']"
      ]
     },
     "execution_count": 16,
     "metadata": {},
     "output_type": "execute_result"
    }
   ],
   "source": [
    "re.findall(pattern, text)"
   ]
  },
  {
   "cell_type": "markdown",
   "id": "af68eff2",
   "metadata": {},
   "source": [
    "## Check order number "
   ]
  },
  {
   "cell_type": "code",
   "execution_count": 17,
   "id": "ae0dd8a2",
   "metadata": {},
   "outputs": [],
   "source": [
    "order_chat = \"(123)-567-8976  also my email address is hinakoushar.tatakoti@gmail.com \\\n",
    ", hina_tata1342@gmail.com  my order # is 123456789 and my order number is 7366437834884 and ORDER  192377377437\""
   ]
  },
  {
   "cell_type": "code",
   "execution_count": 19,
   "id": "5cee7678",
   "metadata": {},
   "outputs": [],
   "source": [
    "regex = \"(order|ORDER)[^\\d]*(\\d*)\""
   ]
  },
  {
   "cell_type": "code",
   "execution_count": 20,
   "id": "742ed04d",
   "metadata": {},
   "outputs": [
    {
     "data": {
      "text/plain": [
       "[('order', '123456789'), ('order', '7366437834884'), ('ORDER', '192377377437')]"
      ]
     },
     "execution_count": 20,
     "metadata": {},
     "output_type": "execute_result"
    }
   ],
   "source": [
    "re.findall(regex, order_chat)"
   ]
  },
  {
   "cell_type": "markdown",
   "id": "2eb4695a",
   "metadata": {},
   "source": [
    "## to check the age "
   ]
  },
  {
   "cell_type": "code",
   "execution_count": 23,
   "id": "c480826d",
   "metadata": {},
   "outputs": [],
   "source": [
    "text = \" hello i'm elon musk my age is 50 and doing exceptional work!! in the feild of physics and AI\""
   ]
  },
  {
   "cell_type": "code",
   "execution_count": 24,
   "id": "cd3bc278",
   "metadata": {},
   "outputs": [],
   "source": [
    "pattern =\"age[^\\d]*(\\d+)\""
   ]
  },
  {
   "cell_type": "code",
   "execution_count": 25,
   "id": "af9ce438",
   "metadata": {},
   "outputs": [
    {
     "data": {
      "text/plain": [
       "['50']"
      ]
     },
     "execution_count": 25,
     "metadata": {},
     "output_type": "execute_result"
    }
   ],
   "source": [
    "re.findall(pattern, text)"
   ]
  },
  {
   "cell_type": "code",
   "execution_count": null,
   "id": "cb1f2811",
   "metadata": {},
   "outputs": [],
   "source": [
    "## get personal data from wikipedia"
   ]
  },
  {
   "cell_type": "code",
   "execution_count": 27,
   "id": "dfbe9c5d",
   "metadata": {},
   "outputs": [],
   "source": [
    "text ='''\n",
    "Born\tElon Reeve Musk\n",
    "June 28, 1971 (age 51)\n",
    "Pretoria, Transvaal, South Africa\n",
    "Education\t\n",
    "University of Pennsylvania (BA, BS)\n",
    "Title\t\n",
    "Founder, CEO, and Chief Engineer of SpaceX\n",
    "CEO and product architect of Tesla, Inc.\n",
    "Founder of The Boring Company and X.com (now part of PayPal)\n",
    "Co-founder of Neuralink, OpenAI, and Zip2\n",
    "President of Musk Foundation\n",
    "Spouses\t\n",
    "Justine Wilson\n",
    "​\n",
    "​(m. 2000; div. 2008)​\n",
    "Talulah Riley\n",
    "​\n",
    "​(m. 2010; div. 2012)​\n",
    "​\n",
    "​(m. 2013; div. 2016)​\n",
    "Partner\tGrimes (2018–2022)[1]\n",
    "Children\t10[a][3]\n",
    "Parents\t\n",
    "Errol Musk (father)\n",
    "Maye Musk (mother)\n",
    "Relatives\t\n",
    "Tosca Musk (sister)\n",
    "Kimbal Musk (brother)\n",
    "Lyndon Rive (cousin)\n",
    "Family\tMusk family\n",
    "Awards\tList of honors and awards\n",
    "'''"
   ]
  },
  {
   "cell_type": "code",
   "execution_count": 37,
   "id": "96878746",
   "metadata": {},
   "outputs": [],
   "source": [
    "def get_pattern_match(pattern, text):\n",
    "    match = re.findall(pattern, text)\n",
    "    if match:\n",
    "        return match[0]"
   ]
  },
  {
   "cell_type": "code",
   "execution_count": 40,
   "id": "acef8a37",
   "metadata": {},
   "outputs": [],
   "source": [
    "def get_personal_data(text):\n",
    "    name = get_pattern_match(\"Born.(.*)\", text)\n",
    "    age = get_pattern_match(\"age.(\\d*)\", text)\n",
    "    date_birth = get_pattern_match(\"([a-zA-z0-9].*)\\(age\", text)\n",
    "    place = get_pattern_match(\"age.*\\n(.*)\", text)\n",
    "    data ={\n",
    "      \"name\": name.strip(),\n",
    "      \"age\" : int(age),\n",
    "      \"born\": date_birth.strip(),\n",
    "       \"place\": place.strip()\n",
    "    }\n",
    "    \n",
    "    return data"
   ]
  },
  {
   "cell_type": "code",
   "execution_count": 42,
   "id": "a7a6b0b9",
   "metadata": {},
   "outputs": [
    {
     "data": {
      "text/plain": [
       "{'name': 'Elon Reeve Musk',\n",
       " 'age': 51,\n",
       " 'born': 'June 28, 1971',\n",
       " 'place': 'Pretoria, Transvaal, South Africa'}"
      ]
     },
     "execution_count": 42,
     "metadata": {},
     "output_type": "execute_result"
    }
   ],
   "source": [
    "get_personal_data(text)"
   ]
  }
 ],
 "metadata": {
  "kernelspec": {
   "display_name": "Python 3 (ipykernel)",
   "language": "python",
   "name": "python3"
  },
  "language_info": {
   "codemirror_mode": {
    "name": "ipython",
    "version": 3
   },
   "file_extension": ".py",
   "mimetype": "text/x-python",
   "name": "python",
   "nbconvert_exporter": "python",
   "pygments_lexer": "ipython3",
   "version": "3.8.3"
  }
 },
 "nbformat": 4,
 "nbformat_minor": 5
}
