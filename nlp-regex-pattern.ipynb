{
 "cells": [
  {
   "cell_type": "markdown",
   "id": "f2a739df",
   "metadata": {},
   "source": [
    "## Identify the email address and phone numbers"
   ]
  },
  {
   "cell_type": "markdown",
   "id": "22ad8d18",
   "metadata": {},
   "source": [
    "#### use https://regex101.com/  to test your regex patterns"
   ]
  },
  {
   "cell_type": "code",
   "execution_count": 1,
   "id": "8474c641",
   "metadata": {},
   "outputs": [],
   "source": [
    "import re"
   ]
  },
  {
   "cell_type": "code",
   "execution_count": 14,
   "id": "88d4d336",
   "metadata": {},
   "outputs": [],
   "source": [
    "text =\"jkjhds hgsdhghsd 1134455667 jjhdhshd hjgshdgds hinakoushar.Tatakoti1234@1342\\\n",
    "kjsdsu hsgedsgd Mollwitzsraa2 kuuewhw 9483755444 jsdjsj amir2426@yahoo.com \\\n",
    "akjdjhajdh jsabdbahsdb 384 jwehdgd 8732h jhshdsh agyag 12:03hrs\\\n",
    "(123)-567-8976 also my email address is hinakoushar.tatakoti@gmail.com \\\n",
    ", hina_tata1342@gmail.com \""
   ]
  },
  {
   "cell_type": "code",
   "execution_count": 15,
   "id": "108f222b",
   "metadata": {},
   "outputs": [],
   "source": [
    "pattern =\"\\d{10}|\\(\\d{3}\\)-\\d{3}-\\d{4}|[a-zA-Z0-9_.-]*@[a-zA-Z0-9]*\\.[a-zA-Z]*\""
   ]
  },
  {
   "cell_type": "code",
   "execution_count": 16,
   "id": "861004cf",
   "metadata": {},
   "outputs": [
    {
     "data": {
      "text/plain": [
       "['1134455667',\n",
       " '9483755444',\n",
       " 'amir2426@yahoo.com',\n",
       " '(123)-567-8976',\n",
       " 'hinakoushar.tatakoti@gmail.com',\n",
       " 'hina_tata1342@gmail.com']"
      ]
     },
     "execution_count": 16,
     "metadata": {},
     "output_type": "execute_result"
    }
   ],
   "source": [
    "re.findall(pattern, text)"
   ]
  },
  {
   "cell_type": "markdown",
   "id": "8bd8d7f6",
   "metadata": {},
   "source": [
    "## Check order number "
   ]
  },
  {
   "cell_type": "code",
   "execution_count": 17,
   "id": "7478b2b8",
   "metadata": {},
   "outputs": [],
   "source": [
    "order_chat = \"(123)-567-8976  also my email address is hinakoushar.tatakoti@gmail.com \\\n",
    ", hina_tata1342@gmail.com  my order # is 123456789 and my order number is 7366437834884 and ORDER  192377377437\""
   ]
  },
  {
   "cell_type": "code",
   "execution_count": 19,
   "id": "1f246cfa",
   "metadata": {},
   "outputs": [],
   "source": [
    "regex = \"(order|ORDER)[^\\d]*(\\d*)\""
   ]
  },
  {
   "cell_type": "code",
   "execution_count": 20,
   "id": "2f74a64c",
   "metadata": {},
   "outputs": [
    {
     "data": {
      "text/plain": [
       "[('order', '123456789'), ('order', '7366437834884'), ('ORDER', '192377377437')]"
      ]
     },
     "execution_count": 20,
     "metadata": {},
     "output_type": "execute_result"
    }
   ],
   "source": [
    "re.findall(regex, order_chat)"
   ]
  },
  {
   "cell_type": "markdown",
   "id": "233dafc2",
   "metadata": {},
   "source": [
    "## to check the age "
   ]
  },
  {
   "cell_type": "code",
   "execution_count": 23,
   "id": "0af67bee",
   "metadata": {},
   "outputs": [],
   "source": [
    "text = \" hello i'm elon musk my age is 50 and doing exceptional work!! in the feild of physics and AI\""
   ]
  },
  {
   "cell_type": "code",
   "execution_count": 24,
   "id": "6aecc769",
   "metadata": {},
   "outputs": [],
   "source": [
    "pattern =\"age[^\\d]*(\\d+)\""
   ]
  },
  {
   "cell_type": "code",
   "execution_count": 25,
   "id": "fc9833f5",
   "metadata": {},
   "outputs": [
    {
     "data": {
      "text/plain": [
       "['50']"
      ]
     },
     "execution_count": 25,
     "metadata": {},
     "output_type": "execute_result"
    }
   ],
   "source": [
    "re.findall(pattern, text)"
   ]
  },
  {
   "cell_type": "code",
   "execution_count": null,
   "id": "c609fdb6",
   "metadata": {},
   "outputs": [],
   "source": [
    "## get personal data from wikipedia"
   ]
  },
  {
   "cell_type": "code",
   "execution_count": 27,
   "id": "f81adfb3",
   "metadata": {},
   "outputs": [],
   "source": [
    "text ='''\n",
    "Born\tElon Reeve Musk\n",
    "June 28, 1971 (age 51)\n",
    "Pretoria, Transvaal, South Africa\n",
    "Education\t\n",
    "University of Pennsylvania (BA, BS)\n",
    "Title\t\n",
    "Founder, CEO, and Chief Engineer of SpaceX\n",
    "CEO and product architect of Tesla, Inc.\n",
    "Founder of The Boring Company and X.com (now part of PayPal)\n",
    "Co-founder of Neuralink, OpenAI, and Zip2\n",
    "President of Musk Foundation\n",
    "Spouses\t\n",
    "Justine Wilson\n",
    "​\n",
    "​(m. 2000; div. 2008)​\n",
    "Talulah Riley\n",
    "​\n",
    "​(m. 2010; div. 2012)​\n",
    "​\n",
    "​(m. 2013; div. 2016)​\n",
    "Partner\tGrimes (2018–2022)[1]\n",
    "Children\t10[a][3]\n",
    "Parents\t\n",
    "Errol Musk (father)\n",
    "Maye Musk (mother)\n",
    "Relatives\t\n",
    "Tosca Musk (sister)\n",
    "Kimbal Musk (brother)\n",
    "Lyndon Rive (cousin)\n",
    "Family\tMusk family\n",
    "Awards\tList of honors and awards\n",
    "'''"
   ]
  },
  {
   "cell_type": "code",
   "execution_count": 37,
   "id": "054a96a1",
   "metadata": {},
   "outputs": [],
   "source": [
    "def get_pattern_match(pattern, text):\n",
    "    match = re.findall(pattern, text)\n",
    "    if match:\n",
    "        return match[0]"
   ]
  },
  {
   "cell_type": "code",
   "execution_count": 40,
   "id": "bf5d83df",
   "metadata": {},
   "outputs": [],
   "source": [
    "def get_personal_data(text):\n",
    "    name = get_pattern_match(\"Born.(.*)\", text)\n",
    "    age = get_pattern_match(\"age.(\\d*)\", text)\n",
    "    date_birth = get_pattern_match(\"([a-zA-z0-9].*)\\(age\", text)\n",
    "    place = get_pattern_match(\"age.*\\n(.*)\", text)\n",
    "    data ={\n",
    "      \"name\": name.strip(),\n",
    "      \"age\" : int(age),\n",
    "      \"born\": date_birth.strip(),\n",
    "       \"place\": place.strip()\n",
    "    }\n",
    "    \n",
    "    return data"
   ]
  },
  {
   "cell_type": "code",
   "execution_count": 42,
   "id": "7e2218c8",
   "metadata": {},
   "outputs": [
    {
     "data": {
      "text/plain": [
       "{'name': 'Elon Reeve Musk',\n",
       " 'age': 51,\n",
       " 'born': 'June 28, 1971',\n",
       " 'place': 'Pretoria, Transvaal, South Africa'}"
      ]
     },
     "execution_count": 42,
     "metadata": {},
     "output_type": "execute_result"
    }
   ],
   "source": [
    "get_personal_data(text)"
   ]
  },
  {
   "cell_type": "markdown",
   "id": "cc91fa2d",
   "metadata": {},
   "source": [
    "## Excercise "
   ]
  },
  {
   "cell_type": "markdown",
   "id": "f5ebea92",
   "metadata": {},
   "source": [
    " 1. Extract all twitter handles from following text. Twitter handle is the text that appears after https://twitter.com/ and is a single word. Also it contains only alpha numeric characters i.e. A-Z a-z , o to 9 and underscore _"
   ]
  },
  {
   "cell_type": "code",
   "execution_count": 49,
   "id": "b9dbcac9",
   "metadata": {},
   "outputs": [
    {
     "data": {
      "text/plain": [
       "['elonmusk', 'teslarati', 'dummy_tesla', 'dummy_2_tesla']"
      ]
     },
     "execution_count": 49,
     "metadata": {},
     "output_type": "execute_result"
    }
   ],
   "source": [
    "text = '''\n",
    "Follow our leader Elon musk on twitter here: https://twitter.com/elonmusk, more information \n",
    "on Tesla's products can be found at https://www.tesla.com/. Also here are leading influencers \n",
    "for tesla related news,\n",
    "https://twitter.com/teslarati\n",
    "https://twitter.com/dummy_tesla\n",
    "https://twitter.com/dummy_2_tesla\n",
    "'''\n",
    "pattern = 'https:\\/\\/twitter\\.com\\/([a-zA-Z0-9_]+)*' # todo: type your regex here\n",
    "\n",
    "re.findall(pattern, text)"
   ]
  },
  {
   "cell_type": "markdown",
   "id": "7d95599f",
   "metadata": {},
   "source": [
    "2. Extract Concentration Risk Types. It will be a text that appears after \"Concentration Risk:\", In below example, your regex should extract these two strings\n",
    "\n",
    "    (1) Credit Risk\n",
    "\n",
    "    (2) Supply Rish"
   ]
  },
  {
   "cell_type": "code",
   "execution_count": 50,
   "id": "251e9758",
   "metadata": {},
   "outputs": [
    {
     "data": {
      "text/plain": [
       "['Credit Risk', 'Supply Risk']"
      ]
     },
     "execution_count": 50,
     "metadata": {},
     "output_type": "execute_result"
    }
   ],
   "source": [
    "text = '''\n",
    "Concentration of Risk: Credit Risk\n",
    "Financial instruments that potentially subject us to a concentration of credit risk consist of cash, cash equivalents, marketable securities,\n",
    "restricted cash, accounts receivable, convertible note hedges, and interest rate swaps. Our cash balances are primarily invested in money market funds\n",
    "or on deposit at high credit quality financial institutions in the U.S. These deposits are typically in excess of insured limits. As of September 30, 2021\n",
    "and December 31, 2020, no entity represented 10% or more of our total accounts receivable balance. The risk of concentration for our convertible note\n",
    "hedges and interest rate swaps is mitigated by transacting with several highly-rated multinational banks.\n",
    "Concentration of Risk: Supply Risk\n",
    "We are dependent on our suppliers, including single source suppliers, and the inability of these suppliers to deliver necessary components of our\n",
    "products in a timely manner at prices, quality levels and volumes acceptable to us, or our inability to efficiently manage these components from these\n",
    "suppliers, could have a material adverse effect on our business, prospects, financial condition and operating results.\n",
    "'''\n",
    "pattern = ': ([a-zA-Z]* Risk)' # todo: type your regex here\n",
    "\n",
    "re.findall(pattern, text)"
   ]
  },
  {
   "cell_type": "markdown",
   "id": "cce25062",
   "metadata": {},
   "source": [
    "3. Companies in europe reports their financial numbers of semi annual basis and you can have a document like this. To exatract quarterly and semin annual period you can use a regex as shown below\n",
    "\n",
    "     Hint: you need to use (?:) here to match everything enclosed"
   ]
  },
  {
   "cell_type": "code",
   "execution_count": 48,
   "id": "ebb392f8",
   "metadata": {},
   "outputs": [
    {
     "data": {
      "text/plain": [
       "['2021 Q1', '2021 S1']"
      ]
     },
     "execution_count": 48,
     "metadata": {},
     "output_type": "execute_result"
    }
   ],
   "source": [
    "text = '''\n",
    "Tesla's gross cost of operating lease vehicles in FY2021 Q1 was $4.85 billion.\n",
    "BMW's gross cost of operating vehicles in FY2021 S1 was $8 billion.\n",
    "'''\n",
    "\n",
    "pattern = 'FY(\\d{4} (?:Q[1-4]|S[1-2]))' # todo: type your regex here\n",
    "matches = re.findall(pattern, text)\n",
    "matches"
   ]
  },
  {
   "cell_type": "code",
   "execution_count": null,
   "id": "0d1c810f",
   "metadata": {},
   "outputs": [],
   "source": []
  }
 ],
 "metadata": {
  "kernelspec": {
   "display_name": "Python 3 (ipykernel)",
   "language": "python",
   "name": "python3"
  },
  "language_info": {
   "codemirror_mode": {
    "name": "ipython",
    "version": 3
   },
   "file_extension": ".py",
   "mimetype": "text/x-python",
   "name": "python",
   "nbconvert_exporter": "python",
   "pygments_lexer": "ipython3",
   "version": "3.8.3"
  }
 },
 "nbformat": 4,
 "nbformat_minor": 5
}
